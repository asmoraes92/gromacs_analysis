{
 "cells": [
  {
   "cell_type": "code",
   "execution_count": 9,
   "metadata": {},
   "outputs": [],
   "source": [
    "import pandas as pd\n",
    "import re\n",
    "import os\n",
    "from pathlib import Path"
   ]
  },
  {
   "cell_type": "code",
   "execution_count": 20,
   "metadata": {},
   "outputs": [],
   "source": [
    "os.chdir('put/directory/here')\n",
    "file = 'put_filename_here'\n",
    "energy = open(file,'r').readlines()"
   ]
  },
  {
   "cell_type": "code",
   "execution_count": 21,
   "metadata": {},
   "outputs": [],
   "source": [
    "titles = []\n",
    "for line in energy[:]:\n",
    "    result = re.search(r\"@ s([0-9]+) legend \\\"(.+?)\\\"\", line)\n",
    "    if result:\n",
    "        titles.append(line.split('\"')[-2])\n",
    "    if line.startswith('@') or line.startswith('#'):\n",
    "        energy.remove(line)"
   ]
  },
  {
   "cell_type": "code",
   "execution_count": 22,
   "metadata": {},
   "outputs": [],
   "source": [
    "energy_dict = {}\n",
    "time = []\n",
    "for line in energy:\n",
    "    time.append(line.split()[0])\n",
    "for i in range(len(titles)):\n",
    "    aux = []\n",
    "    for line in energy:\n",
    "        aux.append(float(line.split()[i+1]))\n",
    "    energy_dict[titles[i]] = aux"
   ]
  },
  {
   "cell_type": "code",
   "execution_count": 23,
   "metadata": {},
   "outputs": [],
   "source": [
    "energy_df = pd.DataFrame(energy_dict,index=time)"
   ]
  },
  {
   "cell_type": "code",
   "execution_count": 24,
   "metadata": {},
   "outputs": [
    {
     "data": {
      "text/html": [
       "<div>\n",
       "<style scoped>\n",
       "    .dataframe tbody tr th:only-of-type {\n",
       "        vertical-align: middle;\n",
       "    }\n",
       "\n",
       "    .dataframe tbody tr th {\n",
       "        vertical-align: top;\n",
       "    }\n",
       "\n",
       "    .dataframe thead th {\n",
       "        text-align: right;\n",
       "    }\n",
       "</style>\n",
       "<table border=\"1\" class=\"dataframe\">\n",
       "  <thead>\n",
       "    <tr style=\"text-align: right;\">\n",
       "      <th></th>\n",
       "      <th>Potential</th>\n",
       "      <th>Kinetic En.</th>\n",
       "      <th>Total Energy</th>\n",
       "      <th>Temperature</th>\n",
       "      <th>Pressure</th>\n",
       "    </tr>\n",
       "  </thead>\n",
       "  <tbody>\n",
       "    <tr>\n",
       "      <th>0.000000</th>\n",
       "      <td>-1983.835205</td>\n",
       "      <td>29416.195312</td>\n",
       "      <td>27432.359375</td>\n",
       "      <td>388.850372</td>\n",
       "      <td>187.255249</td>\n",
       "    </tr>\n",
       "    <tr>\n",
       "      <th>0.500000</th>\n",
       "      <td>-4261.545898</td>\n",
       "      <td>26296.621094</td>\n",
       "      <td>22035.074219</td>\n",
       "      <td>347.612976</td>\n",
       "      <td>-621.192749</td>\n",
       "    </tr>\n",
       "    <tr>\n",
       "      <th>1.000000</th>\n",
       "      <td>-4161.297852</td>\n",
       "      <td>27109.535156</td>\n",
       "      <td>22948.238281</td>\n",
       "      <td>358.358826</td>\n",
       "      <td>-549.592834</td>\n",
       "    </tr>\n",
       "    <tr>\n",
       "      <th>1.500000</th>\n",
       "      <td>-3043.042480</td>\n",
       "      <td>28382.703125</td>\n",
       "      <td>25339.660156</td>\n",
       "      <td>375.188721</td>\n",
       "      <td>534.944214</td>\n",
       "    </tr>\n",
       "    <tr>\n",
       "      <th>2.000000</th>\n",
       "      <td>-3489.375732</td>\n",
       "      <td>27575.748047</td>\n",
       "      <td>24086.373047</td>\n",
       "      <td>364.521637</td>\n",
       "      <td>172.275421</td>\n",
       "    </tr>\n",
       "    <tr>\n",
       "      <th>...</th>\n",
       "      <td>...</td>\n",
       "      <td>...</td>\n",
       "      <td>...</td>\n",
       "      <td>...</td>\n",
       "      <td>...</td>\n",
       "    </tr>\n",
       "    <tr>\n",
       "      <th>59998.000000</th>\n",
       "      <td>-5578.201172</td>\n",
       "      <td>24877.740234</td>\n",
       "      <td>19299.539062</td>\n",
       "      <td>328.856903</td>\n",
       "      <td>-275.029480</td>\n",
       "    </tr>\n",
       "    <tr>\n",
       "      <th>59998.500000</th>\n",
       "      <td>-2052.374268</td>\n",
       "      <td>29455.515625</td>\n",
       "      <td>27403.140625</td>\n",
       "      <td>389.370148</td>\n",
       "      <td>592.862183</td>\n",
       "    </tr>\n",
       "    <tr>\n",
       "      <th>59999.000000</th>\n",
       "      <td>-3315.090820</td>\n",
       "      <td>27330.199219</td>\n",
       "      <td>24015.109375</td>\n",
       "      <td>361.275757</td>\n",
       "      <td>-268.373169</td>\n",
       "    </tr>\n",
       "    <tr>\n",
       "      <th>59999.500000</th>\n",
       "      <td>-4805.687500</td>\n",
       "      <td>26011.585938</td>\n",
       "      <td>21205.898438</td>\n",
       "      <td>343.845093</td>\n",
       "      <td>-556.001099</td>\n",
       "    </tr>\n",
       "    <tr>\n",
       "      <th>60000.000000</th>\n",
       "      <td>-2065.482666</td>\n",
       "      <td>28963.373047</td>\n",
       "      <td>26897.890625</td>\n",
       "      <td>382.864532</td>\n",
       "      <td>1063.849365</td>\n",
       "    </tr>\n",
       "  </tbody>\n",
       "</table>\n",
       "<p>120001 rows × 5 columns</p>\n",
       "</div>"
      ],
      "text/plain": [
       "                Potential   Kinetic En.  Total Energy  Temperature  \\\n",
       "0.000000     -1983.835205  29416.195312  27432.359375   388.850372   \n",
       "0.500000     -4261.545898  26296.621094  22035.074219   347.612976   \n",
       "1.000000     -4161.297852  27109.535156  22948.238281   358.358826   \n",
       "1.500000     -3043.042480  28382.703125  25339.660156   375.188721   \n",
       "2.000000     -3489.375732  27575.748047  24086.373047   364.521637   \n",
       "...                   ...           ...           ...          ...   \n",
       "59998.000000 -5578.201172  24877.740234  19299.539062   328.856903   \n",
       "59998.500000 -2052.374268  29455.515625  27403.140625   389.370148   \n",
       "59999.000000 -3315.090820  27330.199219  24015.109375   361.275757   \n",
       "59999.500000 -4805.687500  26011.585938  21205.898438   343.845093   \n",
       "60000.000000 -2065.482666  28963.373047  26897.890625   382.864532   \n",
       "\n",
       "                 Pressure  \n",
       "0.000000       187.255249  \n",
       "0.500000      -621.192749  \n",
       "1.000000      -549.592834  \n",
       "1.500000       534.944214  \n",
       "2.000000       172.275421  \n",
       "...                   ...  \n",
       "59998.000000  -275.029480  \n",
       "59998.500000   592.862183  \n",
       "59999.000000  -268.373169  \n",
       "59999.500000  -556.001099  \n",
       "60000.000000  1063.849365  \n",
       "\n",
       "[120001 rows x 5 columns]"
      ]
     },
     "execution_count": 24,
     "metadata": {},
     "output_type": "execute_result"
    }
   ],
   "source": [
    "energy_df"
   ]
  },
  {
   "cell_type": "code",
   "execution_count": 25,
   "metadata": {},
   "outputs": [
    {
     "data": {
      "text/plain": [
       "Potential       -3377.281636\n",
       "Kinetic En.     27461.117458\n",
       "Total Energy    24083.835824\n",
       "Temperature       363.006349\n",
       "Pressure           51.350157\n",
       "dtype: float64"
      ]
     },
     "execution_count": 25,
     "metadata": {},
     "output_type": "execute_result"
    }
   ],
   "source": [
    "energy_df.mean()"
   ]
  },
  {
   "cell_type": "code",
   "execution_count": 30,
   "metadata": {},
   "outputs": [
    {
     "data": {
      "text/plain": [
       "<AxesSubplot:>"
      ]
     },
     "execution_count": 30,
     "metadata": {},
     "output_type": "execute_result"
    },
    {
     "data": {
      "image/png": "[encoded data removed]",
      "text/plain": [
       "<Figure size 1080x648 with 1 Axes>"
      ]
     },
     "metadata": {
      "needs_background": "light"
     },
     "output_type": "display_data"
    }
   ],
   "source": [
    "energy_df['Total Energy'].plot(figsize=(15,9))"
   ]
  },
  {
   "cell_type": "code",
   "execution_count": null,
   "metadata": {},
   "outputs": [],
   "source": []
  }
 ],
 "metadata": {
  "kernelspec": {
   "display_name": "Python 3 (ipykernel)",
   "language": "python",
   "name": "python3"
  },
  "language_info": {
   "codemirror_mode": {
    "name": "ipython",
    "version": 3
   },
   "file_extension": ".py",
   "mimetype": "text/x-python",
   "name": "python",
   "nbconvert_exporter": "python",
   "pygments_lexer": "ipython3",
   "version": "3.7.10"
  }
 },
 "nbformat": 4,
 "nbformat_minor": 4
}
